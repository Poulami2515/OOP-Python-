{
 "cells": [
  {
   "cell_type": "markdown",
   "id": "9276f0f3",
   "metadata": {},
   "source": [
    "# OOPS IN PYTHON"
   ]
  },
  {
   "cell_type": "markdown",
   "id": "a80c7ff9",
   "metadata": {},
   "source": [
    "### Class\n",
    "A Class is like an object constructor, or a \"blueprint\" for creating objects."
   ]
  },
  {
   "cell_type": "markdown",
   "id": "07ef0488",
   "metadata": {},
   "source": [
    "### Data Member\n",
    "A class variable or instance variable that holds data associated with a class and its objects."
   ]
  },
  {
   "cell_type": "markdown",
   "id": "1fc8fc7c",
   "metadata": {},
   "source": [
    "### Function Overloading\n",
    "The assignment of more than one behavior to a particular function."
   ]
  },
  {
   "cell_type": "markdown",
   "id": "54f4b25c",
   "metadata": {},
   "source": [
    "### Pass statement\n",
    "Class definitions cannot be empty, but if you for some reason have a class definition with no content, put in the pass statement to avoid getting an error."
   ]
  },
  {
   "cell_type": "code",
   "execution_count": 1,
   "id": "82f7ffe6",
   "metadata": {},
   "outputs": [],
   "source": [
    "#empty class\n",
    "class car:\n",
    "    pass"
   ]
  },
  {
   "cell_type": "markdown",
   "id": "6d6a6970",
   "metadata": {},
   "source": [
    "### Object\n",
    "Objects are instances of the class."
   ]
  },
  {
   "cell_type": "code",
   "execution_count": 2,
   "id": "359d5fec",
   "metadata": {},
   "outputs": [
    {
     "data": {
      "text/plain": [
       "<__main__.car at 0x26e0b4870d0>"
      ]
     },
     "execution_count": 2,
     "metadata": {},
     "output_type": "execute_result"
    }
   ],
   "source": [
    "car1=car() #instance/object created\n",
    "car1"
   ]
  },
  {
   "cell_type": "markdown",
   "id": "d0cb46a1",
   "metadata": {},
   "source": [
    "### Attributes\n",
    "Attributes of a class are function objects that define corresponding methods of its instances. They are used to implement access controls of the classes. Attributes of a class can also be accessed using the following built-in methods and functions : getattr() – This function is used to access the attribute of object."
   ]
  },
  {
   "cell_type": "code",
   "execution_count": 3,
   "id": "b428d260",
   "metadata": {},
   "outputs": [
    {
     "name": "stdout",
     "output_type": "stream",
     "text": [
      "4\n"
     ]
    }
   ],
   "source": [
    "car1.windows=5 #attributes added\n",
    "car1.doors=4\n",
    "print(car1.doors)"
   ]
  },
  {
   "cell_type": "code",
   "execution_count": 4,
   "id": "30c08b7e",
   "metadata": {},
   "outputs": [],
   "source": [
    "car2=car()  #instance created\n",
    "car2.seats=7  #attributes added\n",
    "car2.windows=5"
   ]
  },
  {
   "cell_type": "code",
   "execution_count": 5,
   "id": "6ca5cae9",
   "metadata": {},
   "outputs": [
    {
     "name": "stdout",
     "output_type": "stream",
     "text": [
      "7\n"
     ]
    }
   ],
   "source": [
    "print(car2.seats) #no. of attributes added by this method are not fixed"
   ]
  },
  {
   "cell_type": "code",
   "execution_count": 6,
   "id": "df9bc090",
   "metadata": {},
   "outputs": [
    {
     "data": {
      "text/plain": [
       "['__class__',\n",
       " '__delattr__',\n",
       " '__dict__',\n",
       " '__dir__',\n",
       " '__doc__',\n",
       " '__eq__',\n",
       " '__format__',\n",
       " '__ge__',\n",
       " '__getattribute__',\n",
       " '__gt__',\n",
       " '__hash__',\n",
       " '__init__',\n",
       " '__init_subclass__',\n",
       " '__le__',\n",
       " '__lt__',\n",
       " '__module__',\n",
       " '__ne__',\n",
       " '__new__',\n",
       " '__reduce__',\n",
       " '__reduce_ex__',\n",
       " '__repr__',\n",
       " '__setattr__',\n",
       " '__sizeof__',\n",
       " '__str__',\n",
       " '__subclasshook__',\n",
       " '__weakref__',\n",
       " 'seats',\n",
       " 'windows']"
      ]
     },
     "execution_count": 6,
     "metadata": {},
     "output_type": "execute_result"
    }
   ],
   "source": [
    "dir(car2)"
   ]
  },
  {
   "cell_type": "markdown",
   "id": "fc10724e",
   "metadata": {},
   "source": [
    "### Method\n",
    "Objects can also contain methods. Methods in objects are functions that belong to the object."
   ]
  },
  {
   "cell_type": "markdown",
   "id": "4d5b2f48",
   "metadata": {},
   "source": [
    "### __init__ Function\n",
    "All classes have a function called __init__(), which is always executed when the class is being initiated. \n",
    "Use the __init__() function to assign values to object properties, or other operations that are necessary to do when the object is being created.\n",
    "The __init__() function is called automatically every time the class is being used to create a new object.\n"
   ]
  },
  {
   "cell_type": "markdown",
   "id": "f6e94171",
   "metadata": {},
   "source": [
    "### Self parameter\n",
    "The self parameter is a reference to the current instance of the class, and is used to access variables that belongs to the class.\n",
    "It does not have to be named self , you can call it whatever you like, but it has to be the first parameter of any function in the class."
   ]
  },
  {
   "cell_type": "code",
   "execution_count": 7,
   "id": "07fb17d5",
   "metadata": {},
   "outputs": [],
   "source": [
    "#All the class variables are public\n",
    "class Bus:\n",
    "    def __init__(self, window, door, enginetype): #constructor or in-built method of class\n",
    "        self.windows = window #self takes reference of the object being created and adds the attributes accordingly\n",
    "        self.doors = door\n",
    "        self.enginetype = enginetype\n",
    "    def self_driving(self): #another method of the class\n",
    "        return \"This is a {} car\".format(self.enginetype)"
   ]
  },
  {
   "cell_type": "markdown",
   "id": "282fb435",
   "metadata": {},
   "source": [
    "### Constructor\n",
    "Constructors are generally used for instantiating an object. The task of constructors is to initialize(assign values) to the data members of the class when an object of the class is created. In Python the __init__() method is called the constructor and is always called when an object is created."
   ]
  },
  {
   "cell_type": "code",
   "execution_count": 8,
   "id": "bbbe676a",
   "metadata": {},
   "outputs": [],
   "source": [
    "Bus1=Bus(20,2,'diesel')"
   ]
  },
  {
   "cell_type": "code",
   "execution_count": 9,
   "id": "d11e017f",
   "metadata": {},
   "outputs": [
    {
     "name": "stdout",
     "output_type": "stream",
     "text": [
      "diesel\n"
     ]
    }
   ],
   "source": [
    "print(Bus1.enginetype)"
   ]
  },
  {
   "cell_type": "code",
   "execution_count": 10,
   "id": "25077490",
   "metadata": {},
   "outputs": [
    {
     "data": {
      "text/plain": [
       "'This is a diesel car'"
      ]
     },
     "execution_count": 10,
     "metadata": {},
     "output_type": "execute_result"
    }
   ],
   "source": [
    "Bus1.self_driving()  #method created inside a class"
   ]
  },
  {
   "cell_type": "markdown",
   "id": "ea01b3b2",
   "metadata": {},
   "source": [
    "### Inheritance\n",
    "Inheritance allows us to define a class that inherits all the methods and properties from another class. Parent class is the class being inherited from, also called base class. Child class is the class that inherits from another class, also called derived class."
   ]
  },
  {
   "cell_type": "code",
   "execution_count": 11,
   "id": "588aea1f",
   "metadata": {},
   "outputs": [],
   "source": [
    "class volvo(Bus):\n",
    "    def __init__(self, window, door, enginetype, ai):\n",
    "        super().__init__(window, door, enginetype) #access from parent class\n",
    "        self.ai = ai\n",
    "    def selfdriving(self):\n",
    "        return \"Volvo supports self-driving.\""
   ]
  },
  {
   "cell_type": "code",
   "execution_count": 12,
   "id": "d5c6105e",
   "metadata": {},
   "outputs": [],
   "source": [
    "Shyamali = volvo(20,2,'diesel',True)"
   ]
  },
  {
   "cell_type": "code",
   "execution_count": 13,
   "id": "92e8160a",
   "metadata": {},
   "outputs": [
    {
     "data": {
      "text/plain": [
       "['__class__',\n",
       " '__delattr__',\n",
       " '__dict__',\n",
       " '__dir__',\n",
       " '__doc__',\n",
       " '__eq__',\n",
       " '__format__',\n",
       " '__ge__',\n",
       " '__getattribute__',\n",
       " '__gt__',\n",
       " '__hash__',\n",
       " '__init__',\n",
       " '__init_subclass__',\n",
       " '__le__',\n",
       " '__lt__',\n",
       " '__module__',\n",
       " '__ne__',\n",
       " '__new__',\n",
       " '__reduce__',\n",
       " '__reduce_ex__',\n",
       " '__repr__',\n",
       " '__setattr__',\n",
       " '__sizeof__',\n",
       " '__str__',\n",
       " '__subclasshook__',\n",
       " '__weakref__',\n",
       " 'ai',\n",
       " 'doors',\n",
       " 'enginetype',\n",
       " 'self_driving',\n",
       " 'selfdriving',\n",
       " 'windows']"
      ]
     },
     "execution_count": 13,
     "metadata": {},
     "output_type": "execute_result"
    }
   ],
   "source": [
    "dir(Shyamali)"
   ]
  },
  {
   "cell_type": "code",
   "execution_count": 14,
   "id": "da39d511",
   "metadata": {},
   "outputs": [
    {
     "data": {
      "text/plain": [
       "20"
      ]
     },
     "execution_count": 14,
     "metadata": {},
     "output_type": "execute_result"
    }
   ],
   "source": [
    "Shyamali.windows"
   ]
  },
  {
   "cell_type": "code",
   "execution_count": 15,
   "id": "1279be75",
   "metadata": {},
   "outputs": [
    {
     "data": {
      "text/plain": [
       "True"
      ]
     },
     "execution_count": 15,
     "metadata": {},
     "output_type": "execute_result"
    }
   ],
   "source": [
    "Shyamali.ai"
   ]
  },
  {
   "cell_type": "code",
   "execution_count": 16,
   "id": "c9e8422e",
   "metadata": {},
   "outputs": [
    {
     "data": {
      "text/plain": [
       "bool"
      ]
     },
     "execution_count": 16,
     "metadata": {},
     "output_type": "execute_result"
    }
   ],
   "source": [
    "type(Shyamali.ai)"
   ]
  },
  {
   "cell_type": "code",
   "execution_count": 17,
   "id": "d51224a5",
   "metadata": {},
   "outputs": [
    {
     "data": {
      "text/plain": [
       "'Volvo supports self-driving.'"
      ]
     },
     "execution_count": 17,
     "metadata": {},
     "output_type": "execute_result"
    }
   ],
   "source": [
    "Shyamali.selfdriving()"
   ]
  },
  {
   "cell_type": "markdown",
   "id": "9c4c1893",
   "metadata": {},
   "source": [
    "### Public, Protected and Private variables\n",
    "There are three types of access modifiers in Python: public, private, and protected. Variables with the public access modifiers can be accessed anywhere inside or outside the class, the private variables can only be accessed inside the class, while protected variables can be accessed within the same package."
   ]
  },
  {
   "cell_type": "markdown",
   "id": "b42d980f",
   "metadata": {},
   "source": [
    "#### PROTECTED"
   ]
  },
  {
   "cell_type": "markdown",
   "id": "9decdc1b",
   "metadata": {},
   "source": [
    "The members of a class that are declared protected are only accessible to a class derived from it. Data members of a class are declared protected by adding a single underscore '_' symbol before the data member of that class."
   ]
  },
  {
   "cell_type": "code",
   "execution_count": 18,
   "id": "e7b81c81",
   "metadata": {},
   "outputs": [],
   "source": [
    "### All the class variables are protected\n",
    "class Car():\n",
    "    def __init__(self,windows,doors,enginetype):\n",
    "        self._windows=windows\n",
    "        self._doors=doors\n",
    "        self._enginetype=enginetype"
   ]
  },
  {
   "cell_type": "code",
   "execution_count": 19,
   "id": "2deadce7",
   "metadata": {},
   "outputs": [],
   "source": [
    "class Truck(Car):\n",
    "    def __init__(self,windows,doors,enginetype,horsepower):\n",
    "        super().__init__(windows,doors,enginetype)\n",
    "        self.horsepowwer=horsepower"
   ]
  },
  {
   "cell_type": "code",
   "execution_count": 20,
   "id": "8fd8ffe4",
   "metadata": {},
   "outputs": [
    {
     "data": {
      "text/plain": [
       "['__class__',\n",
       " '__delattr__',\n",
       " '__dict__',\n",
       " '__dir__',\n",
       " '__doc__',\n",
       " '__eq__',\n",
       " '__format__',\n",
       " '__ge__',\n",
       " '__getattribute__',\n",
       " '__gt__',\n",
       " '__hash__',\n",
       " '__init__',\n",
       " '__init_subclass__',\n",
       " '__le__',\n",
       " '__lt__',\n",
       " '__module__',\n",
       " '__ne__',\n",
       " '__new__',\n",
       " '__reduce__',\n",
       " '__reduce_ex__',\n",
       " '__repr__',\n",
       " '__setattr__',\n",
       " '__sizeof__',\n",
       " '__str__',\n",
       " '__subclasshook__',\n",
       " '__weakref__',\n",
       " '_doors',\n",
       " '_enginetype',\n",
       " '_windows',\n",
       " 'horsepowwer']"
      ]
     },
     "execution_count": 20,
     "metadata": {},
     "output_type": "execute_result"
    }
   ],
   "source": [
    "truck=Truck(4,4,\"Diesel\",4000)\n",
    "dir(truck)"
   ]
  },
  {
   "cell_type": "code",
   "execution_count": 21,
   "id": "94125dcf",
   "metadata": {},
   "outputs": [],
   "source": [
    "truck._doors=5"
   ]
  },
  {
   "cell_type": "code",
   "execution_count": 22,
   "id": "193ac98e",
   "metadata": {},
   "outputs": [
    {
     "data": {
      "text/plain": [
       "5"
      ]
     },
     "execution_count": 22,
     "metadata": {},
     "output_type": "execute_result"
    }
   ],
   "source": [
    "truck._doors"
   ]
  },
  {
   "cell_type": "markdown",
   "id": "51d29eb2",
   "metadata": {},
   "source": [
    "#### PRIVATE "
   ]
  },
  {
   "cell_type": "markdown",
   "id": "8b005789",
   "metadata": {},
   "source": [
    "In the context of class, private means the attributes are only available for the members of the class not for the outside of the class."
   ]
  },
  {
   "cell_type": "code",
   "execution_count": 23,
   "id": "01124dbe",
   "metadata": {},
   "outputs": [],
   "source": [
    "### private\n",
    "class Car():\n",
    "    def __init__(self,windows,doors,enginetype):\n",
    "        self.__windows=windows\n",
    "        self.__doors=doors\n",
    "        self.__enginetype=enginetype"
   ]
  },
  {
   "cell_type": "code",
   "execution_count": 24,
   "id": "ec298653",
   "metadata": {},
   "outputs": [],
   "source": [
    "audi=Car(4,4,\"Diesel\")"
   ]
  },
  {
   "cell_type": "code",
   "execution_count": 25,
   "id": "40c56106",
   "metadata": {},
   "outputs": [],
   "source": [
    "audi._Car__doors=5"
   ]
  },
  {
   "cell_type": "code",
   "execution_count": 26,
   "id": "3b8c0da6",
   "metadata": {},
   "outputs": [
    {
     "data": {
      "text/plain": [
       "['_Car__doors',\n",
       " '_Car__enginetype',\n",
       " '_Car__windows',\n",
       " '__class__',\n",
       " '__delattr__',\n",
       " '__dict__',\n",
       " '__dir__',\n",
       " '__doc__',\n",
       " '__eq__',\n",
       " '__format__',\n",
       " '__ge__',\n",
       " '__getattribute__',\n",
       " '__gt__',\n",
       " '__hash__',\n",
       " '__init__',\n",
       " '__init_subclass__',\n",
       " '__le__',\n",
       " '__lt__',\n",
       " '__module__',\n",
       " '__ne__',\n",
       " '__new__',\n",
       " '__reduce__',\n",
       " '__reduce_ex__',\n",
       " '__repr__',\n",
       " '__setattr__',\n",
       " '__sizeof__',\n",
       " '__str__',\n",
       " '__subclasshook__',\n",
       " '__weakref__']"
      ]
     },
     "execution_count": 26,
     "metadata": {},
     "output_type": "execute_result"
    }
   ],
   "source": [
    "dir(audi)"
   ]
  },
  {
   "cell_type": "markdown",
   "id": "fe00086e",
   "metadata": {},
   "source": [
    "### Name Mangling"
   ]
  },
  {
   "cell_type": "markdown",
   "id": "3f86767c",
   "metadata": {},
   "source": [
    "Python performs name mangling on private attributes. Every member with a double underscore will be changed to _object._class__variable."
   ]
  },
  {
   "cell_type": "code",
   "execution_count": 27,
   "id": "f3efc1bc",
   "metadata": {},
   "outputs": [
    {
     "data": {
      "text/plain": [
       "['_Car__doors',\n",
       " '_Car__enginetype',\n",
       " '_Car__windows',\n",
       " '__class__',\n",
       " '__delattr__',\n",
       " '__dict__',\n",
       " '__dir__',\n",
       " '__doc__',\n",
       " '__eq__',\n",
       " '__format__',\n",
       " '__ge__',\n",
       " '__getattribute__',\n",
       " '__gt__',\n",
       " '__hash__',\n",
       " '__init__',\n",
       " '__init_subclass__',\n",
       " '__le__',\n",
       " '__lt__',\n",
       " '__module__',\n",
       " '__ne__',\n",
       " '__new__',\n",
       " '__reduce__',\n",
       " '__reduce_ex__',\n",
       " '__repr__',\n",
       " '__setattr__',\n",
       " '__sizeof__',\n",
       " '__str__',\n",
       " '__subclasshook__',\n",
       " '__weakref__']"
      ]
     },
     "execution_count": 27,
     "metadata": {},
     "output_type": "execute_result"
    }
   ],
   "source": [
    "dir(audi)"
   ]
  },
  {
   "cell_type": "markdown",
   "id": "be08bdde",
   "metadata": {},
   "source": [
    "Thus, Python does not provide the functionality of a private access-modifier, as compared to classical programming languages.\n",
    "The process entirely relies on the programmer."
   ]
  },
  {
   "cell_type": "markdown",
   "id": "a804be1a",
   "metadata": {},
   "source": [
    "So a responsible programmer, upon seeing an attribute with such a naming convention, would refrain from accessing it outside its scope. This also wouldn’t be good to use in cases where fellow programmers aren’t aware of such naming conventions."
   ]
  }
 ],
 "metadata": {
  "kernelspec": {
   "display_name": "Python 3 (ipykernel)",
   "language": "python",
   "name": "python3"
  },
  "language_info": {
   "codemirror_mode": {
    "name": "ipython",
    "version": 3
   },
   "file_extension": ".py",
   "mimetype": "text/x-python",
   "name": "python",
   "nbconvert_exporter": "python",
   "pygments_lexer": "ipython3",
   "version": "3.9.7"
  }
 },
 "nbformat": 4,
 "nbformat_minor": 5
}
